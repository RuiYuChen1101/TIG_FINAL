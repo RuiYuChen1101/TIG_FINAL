{
 "cells": [
  {
   "cell_type": "markdown",
   "id": "225cbd2e",
   "metadata": {},
   "source": [
    "<h4 align = center> Dr. Jesús Martí Gavilá. Departamento de Ingeniería Cartográfica, Geodesia y fotogrametría </h4>\n",
    "<font color=\"blue\" ><h1 align=center>PRÁCTICA 8</h1> <p> <h1 align=center> CURSO BÁSICO PYTHON: FOLIUM</h1></font>\n",
    "\n",
    "<a href=\"http://www.upv.es/titulaciones/GTI/indexc.html\"><img src = \"http://www.upv.es/imagenes/marcaUPVN1.png\" width =200 ></a>\n",
    "\n",
    "<h2 align=center>Grado Tecnologías Interactivas | Tecnologías de la Información Geográfica</h2>\n",
    "\n"
   ]
  },
  {
   "cell_type": "markdown",
   "id": "25b6576d",
   "metadata": {},
   "source": [
    "<div class=\"alert alert-block alert-info\" style=\"margin-top: 20px\">\n",
    "<b>FOLIUM</b> es una biblioteca de visualización de Python que se desarrolló con el único fin de visualizar datos geoespaciales. Es una biblioteca completamente gratuita. <p>  \n",
    "<h2>Tabla de Contenido</h2>   \n",
    "    <ul>\n",
    "        <li>\n",
    "            <a>Acerca de los conjuntos de datos (DataFrame)</a>\n",
    "        </li>\n",
    "        <li>\n",
    "            <a>Mapa Puntual</a>\n",
    "        </li>\n",
    "        <li>\n",
    "            <a>Mapa de calor</a>\n",
    "        </li>\n",
    "        <li>\n",
    "            <a>Mapa de calor con función tiempo</a>\n",
    "        </li>\n",
    "        <li>\n",
    "            <a>Tareas a realizar</a>\n",
    "        </li>\n",
    "    </ul>\n",
    "<p>\n",
    "<b> Base de datos: </b> <a href=\"https://datos.madrid.es/portal/site/egob\"> https://datos.madrid.es/portal/site/egob </a>\n",
    "<p>\n",
    "<b> Documentación: </b> <a href=\"https://python-visualization.github.io/folium/\"> https://python-visualization.github.io/folium/</a><p>    \n",
    "\n",
    "</div>\n"
   ]
  },
  {
   "cell_type": "markdown",
   "id": "58a761dc",
   "metadata": {},
   "source": [
    "<H3> Alumnos: Chenyi Jiang </H3> Indicar el nombre de los alumnos responsables"
   ]
  },
  {
   "cell_type": "markdown",
   "id": "c694267c",
   "metadata": {},
   "source": [
    "<h1 align=center><font color=\"green\" >Estudio de la accidentalidad de la ciudad de Madrid mediante mapa de calor y puntual.</font></h1><p>\n",
    "    \n",
    "<h2>Caso de estudio</h2>\n",
    "Crear un mapa de calor y puntual de los accidentes originados por vehiculos y bicicletas en el año 2021"
   ]
  },
  {
   "cell_type": "code",
   "execution_count": 1,
   "id": "b4375825",
   "metadata": {},
   "outputs": [],
   "source": [
    "# Librerias necesarias\n",
    "import openpyxl\n",
    "import pandas as pd\n",
    "import numpy as np\n",
    "import folium\n",
    "from folium import plugins\n",
    "import webbrowser\n",
    "from pyproj import Transformer"
   ]
  },
  {
   "cell_type": "code",
   "execution_count": null,
   "id": "462374b3",
   "metadata": {},
   "outputs": [],
   "source": [
    "# Base de datos\n",
    "base_datos= pd.read_excel('2021_Accidentalidad.xlsx')\n",
    "base_datos.head(5)"
   ]
  },
  {
   "cell_type": "markdown",
   "id": "3e14c949",
   "metadata": {},
   "source": [
    "# Preparación Base de datos"
   ]
  },
  {
   "cell_type": "code",
   "execution_count": null,
   "id": "f625752d",
   "metadata": {},
   "outputs": [],
   "source": [
    "print(base_datos.dtypes) # imprime el tipo de campo\n",
    "print(\"Numero de registros =\" , len( base_datos)) # imprime el tamaño de la base de datos"
   ]
  },
  {
   "cell_type": "code",
   "execution_count": null,
   "id": "8044bc4a",
   "metadata": {},
   "outputs": [],
   "source": [
    "# Elimina los registros en blanco en los campos de coordenadas\n",
    "accidentes_df = base_datos.dropna(subset=['coordenada_x_utm', 'coordenada_y_utm'])"
   ]
  },
  {
   "cell_type": "markdown",
   "id": "73173448",
   "metadata": {},
   "source": [
    "# Transformación de coordenadas"
   ]
  },
  {
   "cell_type": "markdown",
   "id": "02e35070",
   "metadata": {},
   "source": [
    "La geolocalización en el fichero de accidentes del ayuntamiento de Madrid se realiza con coordenadas UTM ETRS89 en el Huso 30. Para representar coordenadas en FOLIUM se necesitan coordenadas geográficas en el mismo sistema"
   ]
  },
  {
   "cell_type": "code",
   "execution_count": null,
   "id": "1d538775",
   "metadata": {},
   "outputs": [],
   "source": [
    "\n",
    "from pyproj import Transformer\n",
    "\n",
    "# Establecer los sistemas de transformación epsg:xxxx de entrada y epsg:yyyyy de salida\n",
    "transformacion = Transformer.from_crs('epsg:xxxxx','epsg:yyyyy',always_xy=True) \n",
    "puntos = list(zip(accidentes_df.coordenada_x_utm,accidentes_df.coordenada_y_utm)) # Crea una lista con todos los puntos\n",
    "\n",
    "coorgeo = np.array(list(transformacion.itransform(puntos)))\n",
    "accidentes_df.loc[:,'longitud'] = coorgeo[:,0]\n",
    "accidentes_df.loc[:,'latitud'] = coorgeo[:,1]\n",
    "\n",
    "accidentes_df.head()"
   ]
  },
  {
   "cell_type": "markdown",
   "id": "06b9a403",
   "metadata": {},
   "source": [
    "# Selección de registros base de datos"
   ]
  },
  {
   "cell_type": "code",
   "execution_count": null,
   "id": "51b9479a",
   "metadata": {},
   "outputs": [],
   "source": [
    "print(accidentes_df[\"tipo_persona\"].unique())"
   ]
  },
  {
   "cell_type": "code",
   "execution_count": null,
   "id": "7ae8b8e1",
   "metadata": {},
   "outputs": [],
   "source": [
    "# Crear una nueva Dataframe que cumple las condiciones establecidas\n",
    "acci_df=accidentes_df.loc[(accidentes_df['tipo_persona']=='Conductor')] \n",
    "                          \n",
    "# si quisieramos introduccir más condicionantes --- & (accidentes_df['tipo_vehiculo']=='Turismo')& (accidentes_df['rango_edad']=='De 18 a 20 años')]"
   ]
  },
  {
   "cell_type": "markdown",
   "id": "f9b8794e",
   "metadata": {},
   "source": [
    "<h2><font color=\"blue\" >Mapa Puntual (MarkerCluster)</font></h2><p>\n",
    "\n",
    "Los mapas puntuales permiten plasmar variables georeferenciadas, para un mejor entendimiento por parte del usuario de la distribucción de los mismas.<p>\n",
    "    \n",
    "<b> Diferentes plugins de Folium: </b> <a href=\"https://python-visualization.github.io/folium/plugins.html\"> https://python-visualization.github.io/folium/plugins.html </a>    \n",
    "<p>\n",
    "\n",
    "<b> Iconos con prefijo 'fa': </b> <a href=\"https://fontawesome.com/v5.15/icons?d=gallery&p=2&m=free\"> https://fontawesome.com/v5.15/icons?d=gallery&p=2&m=free</a>    "
   ]
  },
  {
   "cell_type": "code",
   "execution_count": null,
   "id": "37833ce7",
   "metadata": {},
   "outputs": [],
   "source": [
    "print(accidentes_df[\"tipo_vehiculo\"].unique())"
   ]
  },
  {
   "cell_type": "code",
   "execution_count": null,
   "id": "96c77908",
   "metadata": {},
   "outputs": [],
   "source": [
    "# Crear el mapa base donde representar\n",
    "mapa_accidentes = folium.Map(location=(40.43,-3.65), tiles = 'OpenStreetMap', zoom_start = 12)\n",
    "\n",
    "# Crear diferentes dataframes \n",
    "coche_df=acci_df.loc[(acci_df['tipo_vehiculo']=='Turismo')] \n",
    "bici_df=acci_df.loc[(acci_df['tipo_vehiculo']=='Bicicleta')]\n",
    "\n",
    "# crear un objeto de grupo de marcas para los incidentes en el DataFrame\n",
    "coches = plugins.MarkerCluster( name=\"Accidentes_coche\",).add_to(mapa_accidentes)\n",
    "bicis = plugins.MarkerCluster( name=\"Accidentes_bicis\",).add_to(mapa_accidentes)\n",
    "\n",
    "# procesar el DataFrame y agregar cada punto de datos al grupo de marcas creado anteriormente\n",
    "for lat, lng, label, in zip(coche_df.latitud, coche_df.longitud, coche_df['num_expediente']): #dos formas diferentes de llamar a un campo\n",
    "    folium.Marker(\n",
    "        location=[lat, lng],\n",
    "        icon=folium.Icon(color=\"orange\", icon=\"car\", prefix = 'fa'),\n",
    "        popup=label,\n",
    "        ).add_to(coches)\n",
    "\n",
    "for lat, lng, label, in zip(bici_df.latitud, bici_df.longitud, bici_df['num_expediente']): #dos formas diferentes de llamar a un campo\n",
    "    folium.Marker(\n",
    "        location=[lat, lng],\n",
    "        icon=folium.Icon(color=\"blue\", icon=\"bicycle\", prefix = 'fa'),\n",
    "        popup=label,\n",
    "        ).add_to(bicis)\n",
    "\n",
    "#Añadir controles\n",
    "folium.LayerControl().add_to(mapa_accidentes)\n",
    "draw = plugins.Draw(export=True)\n",
    "draw.add_to(mapa_accidentes)\n",
    "\n",
    "#Muestra mapa\n",
    "mapa_accidentes"
   ]
  },
  {
   "cell_type": "markdown",
   "id": "86cafef6",
   "metadata": {},
   "source": [
    " <h1 align=center><font color=\"green\" >Ubicación de contenedores vidrio y envases en Madrid. Mapa puntual.</font></h1><p> "
   ]
  },
  {
   "cell_type": "code",
   "execution_count": null,
   "id": "beab9950",
   "metadata": {},
   "outputs": [],
   "source": [
    "'''\n",
    "La base de datos es Contenedores_varios.csv, utilizamos ahora un fichero CSV\n",
    "Es opcional colocar el tipo de separador y la codificación. Por defecto es , y UTF-8 peró hay ficheros csv\n",
    "con formato sep=';', encoding = 'cp1252')\n",
    "'''\n",
    "contenedores_df = pd.read_csv('Contenedores_varios.csv', sep=';',low_memory = False)\n",
    "contenedores_df.head()"
   ]
  },
  {
   "cell_type": "code",
   "execution_count": null,
   "id": "4df81d34",
   "metadata": {},
   "outputs": [],
   "source": [
    "print(contenedores_df[\"Tipo Contenedor\"].unique())"
   ]
  },
  {
   "cell_type": "code",
   "execution_count": null,
   "id": "d6bce106",
   "metadata": {},
   "outputs": [],
   "source": [
    "vidrio_df=contenedores_df.loc[(contenedores_df['Tipo Contenedor']=='VIDRIO')] \n",
    "envases_df=contenedores_df.loc[(contenedores_df['Tipo Contenedor']=='ENVASES')] \n",
    "\n",
    "# mapa dual\n",
    "mapa_contenedores = folium.Map(location=(40.43,-3.65), tiles = 'OpenStreetMap', zoom_start = 12)\n",
    "\n",
    "# map tiles\n",
    "folium.TileLayer('OpenStreetMap').add_to(mapa_contenedores)\n",
    "\n",
    "vidrio = plugins.MarkerCluster( name=\"Contenedores Vidrio\").add_to(mapa_contenedores)\n",
    "envases = plugins.MarkerCluster( name = 'Contenedores envases').add_to(mapa_contenedores)\n",
    "\n",
    "for lat, lng, label in zip(vidrio_df.LATITUD, vidrio_df.LONGITUD, vidrio_df['Descripcion Modelo']):\n",
    "    folium.Marker(\n",
    "        location=[lat, lng],\n",
    "        icon=folium.Icon(color=\"green\", icon=\"info-sign\"),\n",
    "        popup=label,\n",
    "        ).add_to(vidrio)\n",
    "\n",
    "for lat, lng, label in zip(envases_df.LATITUD, envases_df.LONGITUD, envases_df['Descripcion Modelo']):\n",
    "    folium.Marker(\n",
    "        location=[lat, lng],\n",
    "        icon=folium.Icon(color=\"orange\", icon=\"info-sign\"),\n",
    "        popup=label,\n",
    "        ).add_to(envases)\n",
    "\n",
    "# Añadir control de mapas\n",
    "folium.LayerControl().add_to(mapa_contenedores)\n",
    "\n",
    "# Crear mapas\n",
    "mapa_contenedores.save(\"madrid_contenedores.html\")\n",
    "webbrowser.open_new_tab('madrid_contenedores.html')"
   ]
  },
  {
   "cell_type": "markdown",
   "id": "9624453b",
   "metadata": {},
   "source": [
    "<h2><font color=\"blue\" >Mapa de Calor (HeatMap)</font></h2><p>\n",
    "\n",
    "Los mapas de calor, o heatmaps, son un tipo de representación dentro de de la simbología de mapas que nos permite mostrar al usuario los puntos calientes o conjuntos de datos más relevantes dentro de una nube de puntos. Con una combinación de opciones de simbología y datos cuantitativos provenientes de base de datos georeferenciadas, obtendras mapas que reflejan concentraciones o distribuciones espaciales de variables no continuas en el espacio."
   ]
  },
  {
   "cell_type": "code",
   "execution_count": null,
   "id": "a9cb428a",
   "metadata": {},
   "outputs": [],
   "source": [
    "# Utilizaremos el pluging HeatMap\n",
    "# la lista de datos puede ser de 2 formas (Latitud, Longitud) o (Latitud, Longitud y Peso).\n",
    "\n",
    "mapa_calor = folium.Map(location=(40.43,-3.65), tiles = 'cartodb positron', zoom_start = 12)\n",
    "plugins.HeatMap(data=acci_df[['latitud', 'longitud']], radius=15, use_local_extrema=True, name=\"Mapa de calor\").add_to(mapa_calor)\n",
    "folium.LayerControl().add_to(mapa_calor)\n",
    "mapa_calor"
   ]
  },
  {
   "cell_type": "code",
   "execution_count": null,
   "id": "ad60c9c0",
   "metadata": {},
   "outputs": [],
   "source": [
    "# publicar el mapa\n",
    "mapa_calor.save(\"heatmap_acci.html\")\n",
    "webbrowser.open_new_tab('heatmap_acci.html') #Abre el HTML en una ventana del navegador"
   ]
  },
  {
   "cell_type": "markdown",
   "id": "5275c961",
   "metadata": {},
   "source": [
    " <h2><font color=\"blue\" >Mapa de calor con evolución en el tiempo (HeatMapWithTime) </font></h2><p>\n",
    "Este plugin nos permite generar mapas de calor de diferentes periodos de tiempo especificados y representarlos mediante automatizacion con un play que nos permite represesentar la evolución del fenómeno"
   ]
  },
  {
   "cell_type": "code",
   "execution_count": null,
   "id": "251d37fd",
   "metadata": {},
   "outputs": [],
   "source": [
    "# Crear una nueva Dataframe que cumpla unas determinadas condiciones\n",
    "acci_df=accidentes_df.loc[(accidentes_df['tipo_persona']=='Conductor') & (accidentes_df['tipo_vehiculo']=='Turismo')]"
   ]
  },
  {
   "cell_type": "code",
   "execution_count": null,
   "id": "cbdcb14d",
   "metadata": {},
   "outputs": [],
   "source": [
    "# Crear un campo en el Dataframe con el valor del mes extraido de la fecha\n",
    "import datetime\n",
    "mes = pd.DatetimeIndex(acci_df['fecha']).month \n",
    "acci_df = acci_df.assign(mes = mes)  "
   ]
  },
  {
   "cell_type": "code",
   "execution_count": null,
   "id": "abbfd212",
   "metadata": {},
   "outputs": [],
   "source": [
    "# Generar lista para el slider del visualizador\n",
    "lista_tiempo = ['Enero','Febrero','Marzo','Abril','Mayo', 'Junio', 'Julio', 'Agosto', 'Septiembre', 'Octubre', 'Noviembre','Diciembre']"
   ]
  },
  {
   "cell_type": "code",
   "execution_count": null,
   "id": "5bb9e8b4",
   "metadata": {},
   "outputs": [],
   "source": [
    "lista_peso = [] # Crear una lista vacia\n",
    "acci_df = acci_df.assign(peso = 1)  # crear un campo nuevo con valor por defecto 1\n",
    "\n",
    "# Rellenar la lista con los campos (Latitud, Longitud y Peso) necesarios para HeatMap\n",
    "for x in acci_df['mes'].sort_values().unique():\n",
    "   lista_peso.append(acci_df.loc[acci_df['mes']==x,   # Agrupar los valores con latitud y longitud igual \n",
    "                  ['latitud','longitud','peso']].groupby(['latitud','longitud']) \n",
    "                  .sum().reset_index().values.tolist())"
   ]
  },
  {
   "cell_type": "code",
   "execution_count": null,
   "id": "b0e0508c",
   "metadata": {},
   "outputs": [],
   "source": [
    "print(lista_peso     )"
   ]
  },
  {
   "cell_type": "code",
   "execution_count": null,
   "id": "fd91311d",
   "metadata": {},
   "outputs": [],
   "source": [
    "# Generar el mapa\n",
    "madrid_map = folium.Map(location=(40.43,-3.65), control_scale = True, tiles = \"cartodb positron\", zoom_start = 12)\n",
    "\n",
    "# Ejecutar el pluging HeatMapWithTime\n",
    "plugins.HeatMapWithTime(lista_peso, radius = 30, index = lista_tiempo,\n",
    "                        auto_play = False, min_opacity = 0.5, max_opacity = 1, use_local_extrema=True, name=\"Accidentes_coche_2020\").add_to(madrid_map)\n",
    "\n",
    "# publica el mapa\n",
    "folium.LayerControl().add_to(madrid_map)\n",
    "madrid_map.save(\"madrid_acci.html\")\n",
    "webbrowser.open_new_tab('madrid_acci.html')"
   ]
  },
  {
   "cell_type": "markdown",
   "id": "4396130e",
   "metadata": {},
   "source": [
    "<h2><font color=\"blue\" >Mapa Dual (DualMap) </font></h2><p>\n",
    " Este plugin nos permite en una misma ventana Html tener 2 mapas\n",
    " <p>\n",
    "\n",
    " <h1 align=center><font color=\"green\" >Ubicación de contenedores vidrio y envases en Madrid. Mapa dual puntual.</font></h1><p>   "
   ]
  },
  {
   "cell_type": "code",
   "execution_count": null,
   "id": "dfb1cc0d",
   "metadata": {},
   "outputs": [],
   "source": [
    "'''\n",
    "La base de datos es Contenedores_varios.csv, utilizamos ahora un fichero CSV\n",
    "Es opcional colocar el tipo de separador y la codificación. Por defecto es , y UTF-8 peró hay ficheros csv\n",
    "con formato sep=';', encoding = 'cp1252')\n",
    "'''\n",
    "contenedores_df = pd.read_csv('Contenedores_varios.csv', sep=';',low_memory = False)\n",
    "contenedores_df.head()"
   ]
  },
  {
   "cell_type": "code",
   "execution_count": null,
   "id": "3898221f",
   "metadata": {},
   "outputs": [],
   "source": [
    "print(contenedores_df[\"Tipo Contenedor\"].unique())"
   ]
  },
  {
   "cell_type": "code",
   "execution_count": null,
   "id": "ee324741",
   "metadata": {},
   "outputs": [],
   "source": [
    "vidrio_df=contenedores_df.loc[(contenedores_df['Tipo Contenedor']=='VIDRIO')] \n",
    "envases_df=contenedores_df.loc[(contenedores_df['Tipo Contenedor']=='ENVASES')] \n",
    "\n",
    "# mapa dual\n",
    "mapa_dual = plugins.DualMap(location=[40.4, -3.65], tiles=None, zoom_start=20)\n",
    "\n",
    "# map tiles\n",
    "folium.TileLayer('OpenStreetMap').add_to(mapa_dual.m1)\n",
    "folium.TileLayer('CartoDB Positron').add_to(mapa_dual.m2)\n",
    "vidrio = plugins.MarkerCluster( name=\"Contenedores Vidrio\").add_to(mapa_dual.m1)\n",
    "envases = plugins.MarkerCluster( name = 'Contenedores envases').add_to(mapa_dual.m2)\n",
    "\n",
    "for lat, lng, label in zip(vidrio_df.LATITUD, vidrio_df.LONGITUD, vidrio_df['Descripcion Modelo']):\n",
    "    folium.Marker(\n",
    "        location=[lat, lng],\n",
    "        icon=folium.Icon(color=\"green\", icon=\"info-sign\"),\n",
    "        popup=label,\n",
    "        ).add_to(vidrio)\n",
    "\n",
    "for lat, lng, label in zip(envases_df.LATITUD, envases_df.LONGITUD, envases_df['Descripcion Modelo']):\n",
    "    folium.Marker(\n",
    "        location=[lat, lng],\n",
    "        icon=folium.Icon(color=\"orange\", icon=\"info-sign\"),\n",
    "        popup=label,\n",
    "        ).add_to(envases)\n",
    "\n",
    "# Añadir control de mapas\n",
    "folium.LayerControl().add_to(mapa_dual)\n",
    "\n",
    "# Crear mapas\n",
    "mapa_dual.save(\"madrid_dual.html\")\n",
    "webbrowser.open_new_tab('madrid_dual.html')"
   ]
  },
  {
   "cell_type": "markdown",
   "id": "9d965b09",
   "metadata": {},
   "source": [
    "<h2><font color=\"red\" >TAREA 1</font></h2><p>\n",
    "<h3> Realizar una webMapping de residuos de la ciudad de Madrid.</h3> <p>\n",
    "Crear capas diferenciadas de mapa de calor de los residuos (vidrio, envases) y un mapa único con la ubicación de los contenedores diferenciados por el tipo de contenedor (vidrio, envases, papel, organico).<P>\n",
    "    <h4>Guardar como: contenedores_\"apellido alumno\".html</h4>"
   ]
  },
  {
   "cell_type": "code",
   "execution_count": 4,
   "id": "ab4b57f6",
   "metadata": {},
   "outputs": [],
   "source": [
    "# Librerias necesarias\n",
    "import openpyxl\n",
    "import pandas as pd\n",
    "import numpy as np\n",
    "import folium\n",
    "from folium import plugins\n",
    "import webbrowser\n",
    "from pyproj import Transformer"
   ]
  },
  {
   "cell_type": "code",
   "execution_count": 5,
   "id": "aaa7e59b",
   "metadata": {},
   "outputs": [
    {
     "data": {
      "text/html": [
       "<div>\n",
       "<style scoped>\n",
       "    .dataframe tbody tr th:only-of-type {\n",
       "        vertical-align: middle;\n",
       "    }\n",
       "\n",
       "    .dataframe tbody tr th {\n",
       "        vertical-align: top;\n",
       "    }\n",
       "\n",
       "    .dataframe thead th {\n",
       "        text-align: right;\n",
       "    }\n",
       "</style>\n",
       "<table border=\"1\" class=\"dataframe\">\n",
       "  <thead>\n",
       "    <tr style=\"text-align: right;\">\n",
       "      <th></th>\n",
       "      <th>Código Interno del Situad</th>\n",
       "      <th>Tipo Contenedor</th>\n",
       "      <th>Modelo</th>\n",
       "      <th>Descripcion Modelo</th>\n",
       "      <th>Cantidad</th>\n",
       "      <th>Lote</th>\n",
       "      <th>Distrito</th>\n",
       "      <th>Barrio</th>\n",
       "      <th>Tipo Vía</th>\n",
       "      <th>Nombre</th>\n",
       "      <th>Número</th>\n",
       "      <th>COORDENADA X</th>\n",
       "      <th>COORDENADA Y</th>\n",
       "      <th>LONGITUD</th>\n",
       "      <th>LATITUD</th>\n",
       "      <th>DIRECCION</th>\n",
       "    </tr>\n",
       "  </thead>\n",
       "  <tbody>\n",
       "    <tr>\n",
       "      <th>0</th>\n",
       "      <td>168755</td>\n",
       "      <td>ENVASES</td>\n",
       "      <td>NaN</td>\n",
       "      <td>Env 3200 CL</td>\n",
       "      <td>1.0</td>\n",
       "      <td>1</td>\n",
       "      <td>CENTRO</td>\n",
       "      <td>NaN</td>\n",
       "      <td>PLAZA</td>\n",
       "      <td>SALESAS</td>\n",
       "      <td>9.0</td>\n",
       "      <td>441062.99</td>\n",
       "      <td>4475052.45</td>\n",
       "      <td>-3.694768</td>\n",
       "      <td>40.424017</td>\n",
       "      <td>PLAZA SALESAS. 9</td>\n",
       "    </tr>\n",
       "    <tr>\n",
       "      <th>1</th>\n",
       "      <td>168755</td>\n",
       "      <td>VIDRIO</td>\n",
       "      <td>NaN</td>\n",
       "      <td>V 2200 CL VACRI</td>\n",
       "      <td>1.0</td>\n",
       "      <td>1</td>\n",
       "      <td>CENTRO</td>\n",
       "      <td>NaN</td>\n",
       "      <td>PLAZA</td>\n",
       "      <td>SALESAS</td>\n",
       "      <td>9.0</td>\n",
       "      <td>441062.99</td>\n",
       "      <td>4475052.45</td>\n",
       "      <td>-3.694768</td>\n",
       "      <td>40.424017</td>\n",
       "      <td>PLAZA SALESAS. 9</td>\n",
       "    </tr>\n",
       "    <tr>\n",
       "      <th>2</th>\n",
       "      <td>168753</td>\n",
       "      <td>VIDRIO</td>\n",
       "      <td>NaN</td>\n",
       "      <td>V 2200 CL</td>\n",
       "      <td>1.0</td>\n",
       "      <td>1</td>\n",
       "      <td>CENTRO</td>\n",
       "      <td>NaN</td>\n",
       "      <td>CALLE</td>\n",
       "      <td>MEJIA LEQUERICA</td>\n",
       "      <td>20.0</td>\n",
       "      <td>440680.69</td>\n",
       "      <td>4475502.55</td>\n",
       "      <td>-3.699317</td>\n",
       "      <td>40.428045</td>\n",
       "      <td>CALLE MEJIA LEQUERICA. 20</td>\n",
       "    </tr>\n",
       "    <tr>\n",
       "      <th>3</th>\n",
       "      <td>170313</td>\n",
       "      <td>RESTO</td>\n",
       "      <td>NaN</td>\n",
       "      <td>Res 800</td>\n",
       "      <td>1.0</td>\n",
       "      <td>1</td>\n",
       "      <td>FUENCARRAL-EL PARDO</td>\n",
       "      <td>NaN</td>\n",
       "      <td>CALLE</td>\n",
       "      <td>ISLA DE JAVA</td>\n",
       "      <td>55.0</td>\n",
       "      <td>441852.02</td>\n",
       "      <td>4482612.15</td>\n",
       "      <td>-3.686160</td>\n",
       "      <td>40.492174</td>\n",
       "      <td>CALLE ISLA DE JAVA. 55</td>\n",
       "    </tr>\n",
       "    <tr>\n",
       "      <th>4</th>\n",
       "      <td>169874</td>\n",
       "      <td>ENVASES</td>\n",
       "      <td>NaN</td>\n",
       "      <td>Env 800</td>\n",
       "      <td>1.0</td>\n",
       "      <td>1</td>\n",
       "      <td>FUENCARRAL-EL PARDO</td>\n",
       "      <td>NaN</td>\n",
       "      <td>AVENIDA</td>\n",
       "      <td>CARDENAL HERRERA ORIA</td>\n",
       "      <td>271.0</td>\n",
       "      <td>438643.32</td>\n",
       "      <td>4481240.57</td>\n",
       "      <td>-3.723888</td>\n",
       "      <td>40.479587</td>\n",
       "      <td>AVENIDA CARDENAL HERRERA ORIA. 271</td>\n",
       "    </tr>\n",
       "  </tbody>\n",
       "</table>\n",
       "</div>"
      ],
      "text/plain": [
       "  Código Interno del Situad Tipo Contenedor Modelo Descripcion Modelo  \\\n",
       "0                    168755         ENVASES    NaN        Env 3200 CL   \n",
       "1                    168755          VIDRIO    NaN    V 2200 CL VACRI   \n",
       "2                    168753          VIDRIO    NaN          V 2200 CL   \n",
       "3                    170313           RESTO    NaN            Res 800   \n",
       "4                    169874         ENVASES    NaN            Env 800   \n",
       "\n",
       "   Cantidad  Lote             Distrito  Barrio Tipo Vía  \\\n",
       "0       1.0     1               CENTRO     NaN    PLAZA   \n",
       "1       1.0     1               CENTRO     NaN    PLAZA   \n",
       "2       1.0     1               CENTRO     NaN    CALLE   \n",
       "3       1.0     1  FUENCARRAL-EL PARDO     NaN    CALLE   \n",
       "4       1.0     1  FUENCARRAL-EL PARDO     NaN  AVENIDA   \n",
       "\n",
       "                  Nombre  Número  COORDENADA X  COORDENADA Y  LONGITUD  \\\n",
       "0                SALESAS     9.0     441062.99    4475052.45 -3.694768   \n",
       "1                SALESAS     9.0     441062.99    4475052.45 -3.694768   \n",
       "2        MEJIA LEQUERICA    20.0     440680.69    4475502.55 -3.699317   \n",
       "3           ISLA DE JAVA    55.0     441852.02    4482612.15 -3.686160   \n",
       "4  CARDENAL HERRERA ORIA   271.0     438643.32    4481240.57 -3.723888   \n",
       "\n",
       "     LATITUD                           DIRECCION  \n",
       "0  40.424017                    PLAZA SALESAS. 9  \n",
       "1  40.424017                    PLAZA SALESAS. 9  \n",
       "2  40.428045           CALLE MEJIA LEQUERICA. 20  \n",
       "3  40.492174              CALLE ISLA DE JAVA. 55  \n",
       "4  40.479587  AVENIDA CARDENAL HERRERA ORIA. 271  "
      ]
     },
     "execution_count": 5,
     "metadata": {},
     "output_type": "execute_result"
    }
   ],
   "source": [
    "# Abrir la base de datos Contenedores_varios.csv\n",
    "contenedores_df = pd.read_csv('Contenedores_varios.csv', sep=';',low_memory = False)\n",
    "contenedores_df.head()"
   ]
  },
  {
   "cell_type": "code",
   "execution_count": 6,
   "id": "db4cb260",
   "metadata": {},
   "outputs": [
    {
     "name": "stdout",
     "output_type": "stream",
     "text": [
      "['ENVASES' 'VIDRIO' 'RESTO' 'ORGANICA' 'PAPEL-CARTON']\n"
     ]
    }
   ],
   "source": [
    "print(contenedores_df[\"Tipo Contenedor\"].unique())"
   ]
  },
  {
   "cell_type": "code",
   "execution_count": 7,
   "id": "27885d04",
   "metadata": {},
   "outputs": [],
   "source": [
    "# Crear diferentes dataframes para los residuos indicados\n",
    "vidrio_df=contenedores_df.loc[(contenedores_df['Tipo Contenedor']=='VIDRIO')] \n",
    "envases_df=contenedores_df.loc[(contenedores_df['Tipo Contenedor']=='ENVASES')] \n",
    "organica_df=contenedores_df.loc[(contenedores_df['Tipo Contenedor']=='ORGANICA')] \n",
    "papelcarton_df=contenedores_df.loc[(contenedores_df['Tipo Contenedor']=='PAPEL-CARTON')] \n"
   ]
  },
  {
   "cell_type": "code",
   "execution_count": 12,
   "id": "92769fdb",
   "metadata": {},
   "outputs": [
    {
     "data": {
      "text/plain": [
       "True"
      ]
     },
     "execution_count": 12,
     "metadata": {},
     "output_type": "execute_result"
    }
   ],
   "source": [
    "# Generar mapa\n",
    "mapa_contenedores = folium.Map(location=(40.43,-3.65), tiles = 'OpenStreetMap', zoom_start = 12)\n",
    "\n",
    "# Generar mapas de calor\n",
    "\n",
    "plugins.HeatMap(vidrio_df[['LATITUD', 'LONGITUD']], radius=15, use_local_extrema=True, name=\"Mapa de calor_vidrio\").add_to(mapa_contenedores)\n",
    "plugins.HeatMap(envases_df[['LATITUD', 'LONGITUD']], radius=15, use_local_extrema=True, name=\"Mapa de calor_envases\").add_to(mapa_contenedores)\n",
    "\n",
    "\n",
    "# crear objetos de grupo de marcas para los incidentes en el DataFrame\n",
    "\n",
    "vidrio = plugins.MarkerCluster( name=\"Contenedores Vidrio\").add_to(mapa_contenedores)\n",
    "envases = plugins.MarkerCluster( name = 'Contenedores envases').add_to(mapa_contenedores)\n",
    "organica = plugins.MarkerCluster( name = 'Contenedores organico').add_to(mapa_contenedores)\n",
    "papelcarton = plugins.MarkerCluster( name = 'Contenedores papel carton').add_to(mapa_contenedores)\n",
    "\n",
    "for lat, lng, label in zip(vidrio_df.LATITUD, vidrio_df.LONGITUD, vidrio_df['Descripcion Modelo']):\n",
    "    folium.Marker(\n",
    "        location=[lat, lng],\n",
    "        icon=folium.Icon(color=\"green\", icon=\"info-sign\"),\n",
    "        popup=label,\n",
    "        ).add_to(vidrio)\n",
    "\n",
    "for lat, lng, label in zip(envases_df.LATITUD, envases_df.LONGITUD, envases_df['Descripcion Modelo']):\n",
    "    folium.Marker(\n",
    "        location=[lat, lng],\n",
    "        icon=folium.Icon(color=\"orange\", icon=\"info-sign\"),\n",
    "        popup=label,\n",
    "        ).add_to(envases)\n",
    "    \n",
    "for lat, lng, label in zip(organica_df.LATITUD, organica_df.LONGITUD, organica_df['Descripcion Modelo']):\n",
    "    folium.Marker(\n",
    "        location=[lat, lng],\n",
    "        icon=folium.Icon(color=\"black\", icon=\"info-sign\"),\n",
    "        popup=label,\n",
    "        ).add_to(organica)\n",
    "\n",
    "for lat, lng, label in zip(papelcarton_df.LATITUD, papelcarton_df.LONGITUD, papelcarton_df['Descripcion Modelo']):\n",
    "    folium.Marker(\n",
    "        location=[lat, lng],\n",
    "        icon=folium.Icon(color=\"blue\", icon=\"info-sign\"),\n",
    "        popup=label,\n",
    "        ).add_to(papelcarton)\n",
    "# procesar el DataFrame y agregue cada punto de datos al grupo de marca\n",
    "\n",
    "folium.LayerControl().add_to(mapa_contenedores)\n",
    "\n",
    "# publicar el mapa. Contenedores_\"apellido alumno\".html\n",
    "\n",
    "mapa_contenedores.save(\"mapa_contenedores.html\")\n",
    "webbrowser.open_new_tab('mapa_contenedores.html')\n"
   ]
  },
  {
   "cell_type": "markdown",
   "id": "0db26b18",
   "metadata": {},
   "source": [
    "<h2><font color=\"red\" >TAREA 2</font></h2><p>\n",
    "<h3> Realizar webmapping con mapas de calor de accidentes en 2022</h3><p>\n",
    "Realizar varios mapas de calor de accidentes producidos en la ciudad de Madrid, a lo largo del 2022 y distribuido por meses, que se han visto involucrados conductores diferenciados por sexo (Elegir: Hombre o Mujer) y con vehiculos distintos al turismo."
   ]
  },
  {
   "cell_type": "code",
   "execution_count": 17,
   "id": "2f15862b",
   "metadata": {},
   "outputs": [
    {
     "name": "stdout",
     "output_type": "stream",
     "text": [
      "num_expediente                  object\n",
      "fecha                   datetime64[ns]\n",
      "hora                            object\n",
      "localizacion                    object\n",
      "numero                          object\n",
      "cod_distrito                     int64\n",
      "distrito                        object\n",
      "tipo_accidente                  object\n",
      "estado_meteorológico            object\n",
      "tipo_vehiculo                   object\n",
      "tipo_persona                    object\n",
      "rango_edad                      object\n",
      "sexo                            object\n",
      "cod_lesividad                  float64\n",
      "lesividad                       object\n",
      "coordenada_x_utm               float64\n",
      "coordenada_y_utm               float64\n",
      "positiva_alcohol                object\n",
      "positiva_droga                 float64\n",
      "dtype: object\n",
      "Numero de registros = 47053\n"
     ]
    }
   ],
   "source": [
    "# Cargar y limpiar tabla de blancos\n",
    "base_datos= pd.read_excel('2022_Accidentalidad.xlsx')\n",
    "base_datos.head(5)\n",
    "\n",
    "print(base_datos.dtypes) # imprime el tipo de campo\n",
    "print(\"Numero de registros =\" , len( base_datos)) # imprime el tamaño de la base de datos\n",
    "\n",
    "accidentes_df = base_datos.dropna(subset=['coordenada_x_utm', 'coordenada_y_utm'])"
   ]
  },
  {
   "cell_type": "code",
   "execution_count": 19,
   "id": "a6dcb4a2",
   "metadata": {},
   "outputs": [
    {
     "data": {
      "text/html": [
       "<div>\n",
       "<style scoped>\n",
       "    .dataframe tbody tr th:only-of-type {\n",
       "        vertical-align: middle;\n",
       "    }\n",
       "\n",
       "    .dataframe tbody tr th {\n",
       "        vertical-align: top;\n",
       "    }\n",
       "\n",
       "    .dataframe thead th {\n",
       "        text-align: right;\n",
       "    }\n",
       "</style>\n",
       "<table border=\"1\" class=\"dataframe\">\n",
       "  <thead>\n",
       "    <tr style=\"text-align: right;\">\n",
       "      <th></th>\n",
       "      <th>num_expediente</th>\n",
       "      <th>fecha</th>\n",
       "      <th>hora</th>\n",
       "      <th>localizacion</th>\n",
       "      <th>numero</th>\n",
       "      <th>cod_distrito</th>\n",
       "      <th>distrito</th>\n",
       "      <th>tipo_accidente</th>\n",
       "      <th>estado_meteorológico</th>\n",
       "      <th>tipo_vehiculo</th>\n",
       "      <th>...</th>\n",
       "      <th>rango_edad</th>\n",
       "      <th>sexo</th>\n",
       "      <th>cod_lesividad</th>\n",
       "      <th>lesividad</th>\n",
       "      <th>coordenada_x_utm</th>\n",
       "      <th>coordenada_y_utm</th>\n",
       "      <th>positiva_alcohol</th>\n",
       "      <th>positiva_droga</th>\n",
       "      <th>longitud</th>\n",
       "      <th>latitud</th>\n",
       "    </tr>\n",
       "  </thead>\n",
       "  <tbody>\n",
       "    <tr>\n",
       "      <th>0</th>\n",
       "      <td>2022S000001</td>\n",
       "      <td>2022-01-01</td>\n",
       "      <td>01:30:00</td>\n",
       "      <td>AVDA. ALBUFERA, 19</td>\n",
       "      <td>19</td>\n",
       "      <td>13</td>\n",
       "      <td>PUENTE DE VALLECAS</td>\n",
       "      <td>Alcance</td>\n",
       "      <td>Despejado</td>\n",
       "      <td>Turismo</td>\n",
       "      <td>...</td>\n",
       "      <td>De 30 a 34 años</td>\n",
       "      <td>Mujer</td>\n",
       "      <td>NaN</td>\n",
       "      <td>NaN</td>\n",
       "      <td>443359.226</td>\n",
       "      <td>4472082.272</td>\n",
       "      <td>N</td>\n",
       "      <td>NaN</td>\n",
       "      <td>-3.667437</td>\n",
       "      <td>40.39742</td>\n",
       "    </tr>\n",
       "    <tr>\n",
       "      <th>1</th>\n",
       "      <td>2022S000001</td>\n",
       "      <td>2022-01-01</td>\n",
       "      <td>01:30:00</td>\n",
       "      <td>AVDA. ALBUFERA, 19</td>\n",
       "      <td>19</td>\n",
       "      <td>13</td>\n",
       "      <td>PUENTE DE VALLECAS</td>\n",
       "      <td>Alcance</td>\n",
       "      <td>Despejado</td>\n",
       "      <td>Turismo</td>\n",
       "      <td>...</td>\n",
       "      <td>De 45 a 49 años</td>\n",
       "      <td>Hombre</td>\n",
       "      <td>NaN</td>\n",
       "      <td>NaN</td>\n",
       "      <td>443359.226</td>\n",
       "      <td>4472082.272</td>\n",
       "      <td>N</td>\n",
       "      <td>NaN</td>\n",
       "      <td>-3.667437</td>\n",
       "      <td>40.39742</td>\n",
       "    </tr>\n",
       "    <tr>\n",
       "      <th>2</th>\n",
       "      <td>2022S000002</td>\n",
       "      <td>2022-01-01</td>\n",
       "      <td>00:30:00</td>\n",
       "      <td>PLAZA. CANOVAS DEL CASTILLO / PASEO. PRADO</td>\n",
       "      <td>2</td>\n",
       "      <td>3</td>\n",
       "      <td>RETIRO</td>\n",
       "      <td>Colisión fronto-lateral</td>\n",
       "      <td>NaN</td>\n",
       "      <td>Motocicleta hasta 125cc</td>\n",
       "      <td>...</td>\n",
       "      <td>De 30 a 34 años</td>\n",
       "      <td>Hombre</td>\n",
       "      <td>NaN</td>\n",
       "      <td>NaN</td>\n",
       "      <td>441155.351</td>\n",
       "      <td>4474129.588</td>\n",
       "      <td>S</td>\n",
       "      <td>NaN</td>\n",
       "      <td>-3.693594</td>\n",
       "      <td>40.41571</td>\n",
       "    </tr>\n",
       "    <tr>\n",
       "      <th>3</th>\n",
       "      <td>2022S000002</td>\n",
       "      <td>2022-01-01</td>\n",
       "      <td>00:30:00</td>\n",
       "      <td>PLAZA. CANOVAS DEL CASTILLO / PASEO. PRADO</td>\n",
       "      <td>2</td>\n",
       "      <td>3</td>\n",
       "      <td>RETIRO</td>\n",
       "      <td>Colisión fronto-lateral</td>\n",
       "      <td>NaN</td>\n",
       "      <td>Motocicleta hasta 125cc</td>\n",
       "      <td>...</td>\n",
       "      <td>De 35 a 39 años</td>\n",
       "      <td>Mujer</td>\n",
       "      <td>NaN</td>\n",
       "      <td>NaN</td>\n",
       "      <td>441155.351</td>\n",
       "      <td>4474129.588</td>\n",
       "      <td>N</td>\n",
       "      <td>NaN</td>\n",
       "      <td>-3.693594</td>\n",
       "      <td>40.41571</td>\n",
       "    </tr>\n",
       "    <tr>\n",
       "      <th>4</th>\n",
       "      <td>2022S000002</td>\n",
       "      <td>2022-01-01</td>\n",
       "      <td>00:30:00</td>\n",
       "      <td>PLAZA. CANOVAS DEL CASTILLO / PASEO. PRADO</td>\n",
       "      <td>2</td>\n",
       "      <td>3</td>\n",
       "      <td>RETIRO</td>\n",
       "      <td>Colisión fronto-lateral</td>\n",
       "      <td>NaN</td>\n",
       "      <td>Turismo</td>\n",
       "      <td>...</td>\n",
       "      <td>De 40 a 44 años</td>\n",
       "      <td>Hombre</td>\n",
       "      <td>NaN</td>\n",
       "      <td>NaN</td>\n",
       "      <td>441155.351</td>\n",
       "      <td>4474129.588</td>\n",
       "      <td>N</td>\n",
       "      <td>NaN</td>\n",
       "      <td>-3.693594</td>\n",
       "      <td>40.41571</td>\n",
       "    </tr>\n",
       "  </tbody>\n",
       "</table>\n",
       "<p>5 rows × 21 columns</p>\n",
       "</div>"
      ],
      "text/plain": [
       "  num_expediente      fecha      hora  \\\n",
       "0    2022S000001 2022-01-01  01:30:00   \n",
       "1    2022S000001 2022-01-01  01:30:00   \n",
       "2    2022S000002 2022-01-01  00:30:00   \n",
       "3    2022S000002 2022-01-01  00:30:00   \n",
       "4    2022S000002 2022-01-01  00:30:00   \n",
       "\n",
       "                                 localizacion numero  cod_distrito  \\\n",
       "0                          AVDA. ALBUFERA, 19     19            13   \n",
       "1                          AVDA. ALBUFERA, 19     19            13   \n",
       "2  PLAZA. CANOVAS DEL CASTILLO / PASEO. PRADO      2             3   \n",
       "3  PLAZA. CANOVAS DEL CASTILLO / PASEO. PRADO      2             3   \n",
       "4  PLAZA. CANOVAS DEL CASTILLO / PASEO. PRADO      2             3   \n",
       "\n",
       "             distrito           tipo_accidente estado_meteorológico  \\\n",
       "0  PUENTE DE VALLECAS                  Alcance            Despejado   \n",
       "1  PUENTE DE VALLECAS                  Alcance            Despejado   \n",
       "2              RETIRO  Colisión fronto-lateral                  NaN   \n",
       "3              RETIRO  Colisión fronto-lateral                  NaN   \n",
       "4              RETIRO  Colisión fronto-lateral                  NaN   \n",
       "\n",
       "             tipo_vehiculo  ...       rango_edad    sexo cod_lesividad  \\\n",
       "0                  Turismo  ...  De 30 a 34 años   Mujer           NaN   \n",
       "1                  Turismo  ...  De 45 a 49 años  Hombre           NaN   \n",
       "2  Motocicleta hasta 125cc  ...  De 30 a 34 años  Hombre           NaN   \n",
       "3  Motocicleta hasta 125cc  ...  De 35 a 39 años   Mujer           NaN   \n",
       "4                  Turismo  ...  De 40 a 44 años  Hombre           NaN   \n",
       "\n",
       "   lesividad coordenada_x_utm  coordenada_y_utm  positiva_alcohol  \\\n",
       "0        NaN       443359.226       4472082.272                 N   \n",
       "1        NaN       443359.226       4472082.272                 N   \n",
       "2        NaN       441155.351       4474129.588                 S   \n",
       "3        NaN       441155.351       4474129.588                 N   \n",
       "4        NaN       441155.351       4474129.588                 N   \n",
       "\n",
       "  positiva_droga  longitud   latitud  \n",
       "0            NaN -3.667437  40.39742  \n",
       "1            NaN -3.667437  40.39742  \n",
       "2            NaN -3.693594  40.41571  \n",
       "3            NaN -3.693594  40.41571  \n",
       "4            NaN -3.693594  40.41571  \n",
       "\n",
       "[5 rows x 21 columns]"
      ]
     },
     "execution_count": 19,
     "metadata": {},
     "output_type": "execute_result"
    }
   ],
   "source": [
    "# Transformar coordenadas\n",
    "from pyproj import Transformer\n",
    "\n",
    "# Establecer los sistemas de transformación epsg:xxxx de entrada y epsg:yyyyy de salida\n",
    "transformacion = Transformer.from_crs('epsg:25830','epsg:4258',always_xy=True) \n",
    "puntos = list(zip(accidentes_df.coordenada_x_utm,accidentes_df.coordenada_y_utm)) # Crea una lista con todos los puntos\n",
    "\n",
    "coorgeo = np.array(list(transformacion.itransform(puntos)))\n",
    "accidentes_df.loc[:,'longitud'] = coorgeo[:,0]\n",
    "accidentes_df.loc[:,'latitud'] = coorgeo[:,1]\n",
    "\n",
    "accidentes_df.head()"
   ]
  },
  {
   "cell_type": "code",
   "execution_count": 22,
   "id": "2be6c573",
   "metadata": {},
   "outputs": [],
   "source": [
    "# Crear una nueva Dataframe que cumpla unas determinadas condiciones\n",
    "acci_df=accidentes_df.loc[(accidentes_df['sexo']=='Mujer') & (accidentes_df['tipo_vehiculo'] != 'Turismo')]  \n",
    "                          \n",
    "# si quisieramos introduccir más condicionantes --- & (accidentes_df['tipo_vehiculo']=='Turismo')& (accidentes_df['rango_edad']=='De 18 a 20 años')]"
   ]
  },
  {
   "cell_type": "code",
   "execution_count": 23,
   "id": "b35024cb",
   "metadata": {},
   "outputs": [],
   "source": [
    "# Crear un campo en el Dataframe con el valor del mes extraido de la fecha\n",
    "import datetime\n",
    "mes = pd.DatetimeIndex(acci_df['fecha']).month \n",
    "acci_df = acci_df.assign(mes = mes)  "
   ]
  },
  {
   "cell_type": "code",
   "execution_count": 24,
   "id": "d4d0d86f",
   "metadata": {},
   "outputs": [],
   "source": [
    "# lista para el slider del visualizador\n",
    "lista_tiempo = ['Enero','Febrero','Marzo','Abril','Mayo', 'Junio', 'Julio', 'Agosto', 'Septiembre', 'Octubre', 'Noviembre','Diciembre']"
   ]
  },
  {
   "cell_type": "code",
   "execution_count": 25,
   "id": "30b4d7f6",
   "metadata": {},
   "outputs": [],
   "source": [
    "# Crear una lista vacia\n",
    "lista_peso = [] # Crear una lista vacia\n",
    "\n",
    "# crear un campo nuevo con valor por defecto 1\n",
    "\n",
    "acci_df = acci_df.assign(peso = 1)\n",
    "\n",
    "# Rellenar la lista con los campos (Latitud, Longitud y Peso) necesarios para HeatMap\n",
    "\n",
    "# Rellenar la lista con los campos (Latitud, Longitud y Peso) necesarios para HeatMap\n",
    "for x in acci_df['mes'].sort_values().unique():\n",
    "   lista_peso.append(acci_df.loc[acci_df['mes']==x,   # Agrupar los valores con latitud y longitud igual \n",
    "                  ['latitud','longitud','peso']].groupby(['latitud','longitud']) \n",
    "                  .sum().reset_index().values.tolist())"
   ]
  },
  {
   "cell_type": "code",
   "execution_count": 26,
   "id": "e0ed6cfe",
   "metadata": {},
   "outputs": [
    {
     "data": {
      "text/plain": [
       "True"
      ]
     },
     "execution_count": 26,
     "metadata": {},
     "output_type": "execute_result"
    }
   ],
   "source": [
    "# Generar el mapa\n",
    "madrid_map = folium.Map(location=(40.43,-3.65), control_scale = True, tiles = \"cartodb positron\", zoom_start = 12)\n",
    "\n",
    "# Ejecutar el pluging HeatMapWithTime\n",
    "\n",
    "plugins.HeatMapWithTime(lista_peso, radius = 30, index = lista_tiempo,\n",
    "                        auto_play = False, min_opacity = 0.5, max_opacity = 1, use_local_extrema=True, name=\"Accidentes_coche_2022\").add_to(madrid_map)\n",
    "\n",
    "# publica el mapa. Accidentes_Madrid_\"apellido alumno\".html\n",
    "\n",
    "madrid_map.save(\"madrid_acci_jiang_chenyi.html\")\n",
    "webbrowser.open_new_tab('madrid_acci_jiang_chenyi.html')"
   ]
  },
  {
   "cell_type": "code",
   "execution_count": null,
   "id": "2c07bc60",
   "metadata": {},
   "outputs": [],
   "source": []
  }
 ],
 "metadata": {
  "kernelspec": {
   "display_name": "Python 3 (ipykernel)",
   "language": "python",
   "name": "python3"
  },
  "language_info": {
   "codemirror_mode": {
    "name": "ipython",
    "version": 3
   },
   "file_extension": ".py",
   "mimetype": "text/x-python",
   "name": "python",
   "nbconvert_exporter": "python",
   "pygments_lexer": "ipython3",
   "version": "3.9.12"
  }
 },
 "nbformat": 4,
 "nbformat_minor": 5
}
